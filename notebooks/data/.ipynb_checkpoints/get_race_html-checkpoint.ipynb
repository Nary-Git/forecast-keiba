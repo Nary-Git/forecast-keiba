{
 "cells": [
  {
   "cell_type": "markdown",
   "metadata": {},
   "source": [
    "# ToDo\n",
    "* 期間は絞っている"
   ]
  },
  {
   "cell_type": "code",
   "execution_count": 9,
   "metadata": {},
   "outputs": [],
   "source": [
    "\"\"\"\n",
    "race_urlディレクトリに含まれるURLを利用して、htmlを取得する\n",
    "\"\"\"\n",
    "import datetime\n",
    "import pytz\n",
    "now_datetime = datetime.datetime.now(pytz.timezone('Asia/Tokyo'))\n",
    "\n",
    "import requests\n",
    "from bs4 import BeautifulSoup\n",
    "\n",
    "import time\n",
    "import os\n",
    "from os import path\n",
    "# OWN_FILE_NAME = path.splitext(path.basename(__file__))[0]\n",
    "RACR_URL_DIR = \"../../data/raw/race_url\"\n",
    "RACR_HTML_DIR = \"../../data/raw/race_html\"\n",
    "\n",
    "import logging\n",
    "# logger = logging.getLogger(__name__) #ファイルの名前を渡す\n",
    "logger = logging.getLogger() #ファイルの名前を渡す\n",
    "YEAR_FROM = 2008"
   ]
  },
  {
   "cell_type": "code",
   "execution_count": null,
   "metadata": {},
   "outputs": [],
   "source": [
    "def my_makedirs(path):\n",
    "    if not os.path.isdir(path):\n",
    "        os.makedirs(path)\n",
    "\n",
    "def get_race_html():\n",
    "#     # 去年までのデータ\n",
    "#     for year in range(YEAR_FROM, now_datetime.year):\n",
    "#         for month in range(1, 13):\n",
    "#                 get_race_html_by_year_and_mon(year,month)\n",
    "#     # 今年のデータ\n",
    "#     for year in range(now_datetime.year, now_datetime.year+1):\n",
    "#         for month in range(1, now_datetime.month+1):\n",
    "#                 get_race_html_by_year_and_mon(year,month)\n",
    "    # test（あとで消す）\n",
    "    for year in range(2008, 2009):\n",
    "        for month in range(1, 13):\n",
    "                get_race_html_by_year_and_mon(year,month)\n",
    "\n",
    "\n",
    "\n",
    "def get_race_html_by_year_and_mon(year,month):\n",
    "    with open(RACR_URL_DIR+\"/\"+str(year)+\"-\"+str(month)+\".txt\", \"r\") as f:\n",
    "        save_dir = RACR_HTML_DIR+\"/\"+str(year)+\"/\"+str(month)\n",
    "        my_makedirs(save_dir)\n",
    "        urls = f.read().splitlines()\n",
    "\n",
    "        file_list = os.listdir(save_dir) # get all file names\n",
    "\n",
    "        # 取得すべき数と既に保持している数が違う場合のみ行う\n",
    "        if len(urls) != len(file_list):\n",
    "            logger.info(\"getting htmls (\"+str(year) +\" \"+ str(month) + \")\")\n",
    "            for url in urls:\n",
    "                list = url.split(\"/\")\n",
    "                race_id = list[-2]\n",
    "                save_file_path = save_dir+\"/\"+race_id+'.html'\n",
    "                if not os.path.isfile(save_file_path): # まだ取得していなければ取得\n",
    "                    response = requests.get(url)\n",
    "                    response.encoding = response.apparent_encoding # https://qiita.com/nittyan/items/d3f49a7699296a58605b\n",
    "                    html = response.text\n",
    "                    time.sleep(1)\n",
    "                    with open(save_file_path, 'w') as file:\n",
    "                        file.write(html)\n",
    "            logging.info(\"saved \" + str(len(urls)) +\" htmls (\"+str(year) +\" \"+ str(month) + \")\")\n",
    "        else:\n",
    "            logging.info(\"already have \" + str(len(urls)) +\" htmls (\"+str(year) +\" \"+ str(month) + \")\")\n",
    "\n",
    "\n",
    "if __name__ == '__main__':\n",
    "#     formatter = \"%(asctime)s [%(levelname)s]\\t%(message)s\" # フォーマットを定義\n",
    "#     logging.basicConfig(filename='logfile/'+OWN_FILE_NAME+'.logger.log', level=logging.INFO, format=formatter)\n",
    "\n",
    "#     logger.info(\"start get race html!\")\n",
    "    get_race_html()"
   ]
  },
  {
   "cell_type": "code",
   "execution_count": null,
   "metadata": {},
   "outputs": [],
   "source": []
  }
 ],
 "metadata": {
  "kernelspec": {
   "display_name": "Python 3",
   "language": "python",
   "name": "python3"
  },
  "language_info": {
   "codemirror_mode": {
    "name": "ipython",
    "version": 3
   },
   "file_extension": ".py",
   "mimetype": "text/x-python",
   "name": "python",
   "nbconvert_exporter": "python",
   "pygments_lexer": "ipython3",
   "version": "3.6.4"
  }
 },
 "nbformat": 4,
 "nbformat_minor": 2
}
