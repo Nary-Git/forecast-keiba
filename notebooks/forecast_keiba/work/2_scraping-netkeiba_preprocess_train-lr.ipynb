{
 "cells": [
  {
   "cell_type": "markdown",
   "metadata": {},
   "source": [
    "## netkeiba.comからスクレイピング"
   ]
  },
  {
   "cell_type": "code",
   "execution_count": null,
   "metadata": {},
   "outputs": [],
   "source": [
    "!pip install lxml\n",
    "!pip install html5lib\n",
    "!pip install bs4\n",
    "!pip install imblearn"
   ]
  },
  {
   "cell_type": "code",
   "execution_count": null,
   "metadata": {},
   "outputs": [],
   "source": [
    "import pandas as pd"
   ]
  },
  {
   "cell_type": "code",
   "execution_count": null,
   "metadata": {},
   "outputs": [],
   "source": [
    "# サンプル確認\n",
    "url = 'https://db.netkeiba.com/race/202009030811/'\n",
    "\n",
    "print(type(pd.read_html(url)[0]))\n",
    "# -> DataFrame\n",
    "\n",
    "pd.read_html(url)[0]\n",
    "# -> \t着順\t枠番\t馬番\t馬名\t性齢\t斤量\t騎手\tタイム\t着差\t単勝\t人気\t馬体重\t調教師"
   ]
  },
  {
   "cell_type": "code",
   "execution_count": null,
   "metadata": {},
   "outputs": [],
   "source": [
    "import time\n",
    "\n",
    "def scrape_race_results(race_id_list: list)-> dict:\n",
    "    \"\"\"\n",
    "    netkeiba.comのレースIDのリストを渡して、それらをまとめて{'レースID', 結果のDataFrame}という形式の辞書型に格納する。\n",
    "    race_results['201901010101'] -> DataFrame\n",
    "        着順\t枠番\t馬番\t馬名\t性齢\t斤量\t騎手\tタイム\t着差\t単勝\t人気\t馬体重\t調教師\n",
    "    \"\"\"\n",
    "    race_results = {}\n",
    "    for race_id in race_id_list:\n",
    "        try:\n",
    "            url = 'https://db.netkeiba.com/race/' + race_id\n",
    "            race_results[race_id] = pd.read_html(url)[0]\n",
    "            time.sleep(0.1)\n",
    "        except IndexError:\n",
    "            continue\n",
    "        except:\n",
    "            break\n",
    "    return race_results"
   ]
  },
  {
   "cell_type": "code",
   "execution_count": null,
   "metadata": {},
   "outputs": [],
   "source": [
    "# race id を生成（機械的に生成できる）\n",
    "race_id_list = []\n",
    "\n",
    "for place in range(1,11):\n",
    "    for kai in range(1,6):\n",
    "        for day in range(1,9):\n",
    "            for r in range(1,13):\n",
    "                race_id = '2019' + str(place).zfill(2) + str(kai).zfill(2) + str(day).zfill(2) + str(r).zfill(2)\n",
    "                race_id_list.append(race_id)\n",
    "# -> ['201901010101', '201901010102', ,,, ]"
   ]
  },
  {
   "cell_type": "code",
   "execution_count": null,
   "metadata": {},
   "outputs": [],
   "source": [
    "test = scrape_race_results(race_id_list[0:50])"
   ]
  },
  {
   "cell_type": "code",
   "execution_count": null,
   "metadata": {},
   "outputs": [],
   "source": [
    "# 表として見やすいように、dfのindexにrace idを入れる\n",
    "for key in test.keys():\n",
    "    print(test[key].index)\n",
    "    test[key].index = [key]*len(test[key])\n",
    "\n",
    "results = pd.concat((test[key] for key in test.keys()),sort=False)\n",
    "# ここまでで、2019年のレースが一つのdfにまとめることができている"
   ]
  },
  {
   "cell_type": "code",
   "execution_count": null,
   "metadata": {},
   "outputs": [],
   "source": [
    "results\n",
    "results.to_pickle('results.pickle')"
   ]
  },
  {
   "cell_type": "markdown",
   "metadata": {},
   "source": [
    "## データ整形　前処理"
   ]
  },
  {
   "cell_type": "code",
   "execution_count": null,
   "metadata": {},
   "outputs": [],
   "source": [
    "import pandas as pd"
   ]
  },
  {
   "cell_type": "code",
   "execution_count": null,
   "metadata": {},
   "outputs": [],
   "source": [
    "def preprocessing(results):\n",
    "    df = results.copy()    \n",
    "    df = df[~(df['着順'].astype(str).str.contains('\\D'))]\n",
    "    df['着順'] = df['着順'].astype(int)\n",
    "    \n",
    "    df['性'] = df['性齢'].map(lambda x:str(x)[0])\n",
    "    df['年齢'] = df['性齢'].map(lambda x:str(x)[1:]).astype(int)\n",
    "    df['体重'] = df['馬体重'].str.split('(',expand = True)[0].astype(int)\n",
    "    df['体重変化'] = df['馬体重'].str.split('(',expand = True)[1].str[:-1].astype(int)\n",
    "    \n",
    "    df['単勝'] = df['単勝'].astype(float)\n",
    "    \n",
    "    df.drop(['タイム','着差','調教師','性齢','馬体重'],axis = 1,inplace = True)\n",
    "    \n",
    "    return df"
   ]
  },
  {
   "cell_type": "code",
   "execution_count": null,
   "metadata": {},
   "outputs": [],
   "source": [
    "test = preprocessing(results)"
   ]
  },
  {
   "cell_type": "code",
   "execution_count": null,
   "metadata": {},
   "outputs": [],
   "source": [
    "# 4位より下はまとめる\n",
    "clip_rank = lambda x: x if x < 4 else 4\n",
    "test['rank'] = test['着順'].map(clip_rank)\n",
    "\n",
    "# test['馬名'].value_counts()などでカウントし、数が多そうなのは落とした後、ダミー変数化\n",
    "test.drop(['着順','馬名'], axis = 1,inplace = True)\n",
    "test_d = pd.get_dummies(test)"
   ]
  },
  {
   "cell_type": "code",
   "execution_count": null,
   "metadata": {},
   "outputs": [],
   "source": [
    "from sklearn.linear_model import LogisticRegression\n",
    "from sklearn.model_selection import train_test_split\n",
    "from sklearn.preprocessing import StandardScaler\n",
    "\n",
    "# 説明変数\n",
    "X = test_d.drop(['rank'],axis=1)\n",
    "# 目的変数\n",
    "y = test_d['rank']\n",
    "\n",
    "X_train,X_test,y_train,y_test = train_test_split(X,y,stratify=y,test_size=0.3,random_state=0)\n",
    "\n",
    "# 下記で学習もできるが、今回はunder samplingする\n",
    "# model = LogisticRegression()\n",
    "# model.fit(X_train,y_train)\n",
    "\n",
    "# print(model.score(X_train,y_train),model.score(X_test,y_test))\n",
    "\n",
    "# テストデータで予測してみる\n",
    "# y_pred = model.predict(X_test)\n",
    "\n",
    "# pd.Series(y_pred).value_counts()"
   ]
  },
  {
   "cell_type": "code",
   "execution_count": null,
   "metadata": {},
   "outputs": [],
   "source": [
    "from imblearn.under_sampling import RandomUnderSampler\n",
    "\n",
    "cnt_rank_1 = y_train.value_counts()[1]\n",
    "cnt_rank_2 = y_train.value_counts()[2]\n",
    "cnt_rank_3 = y_train.value_counts()[3]"
   ]
  },
  {
   "cell_type": "code",
   "execution_count": null,
   "metadata": {},
   "outputs": [],
   "source": [
    "model = LogisticRegression()\n",
    "rus = RandomUnderSampler(sampling_strategy={1:cnt_rank_1,2:cnt_rank_2,3:cnt_rank_3,4:cnt_rank_1},random_state=71)\n",
    "\n",
    "X_train_rus,y_train_rus = rus.fit_sample(X_train,y_train)\n",
    "\n",
    "model = LogisticRegression()\n",
    "model.fit(X_train_rus,y_train_rus)\n",
    "\n",
    "print(model.score(X_train,y_train),model.score(X_test,y_test))"
   ]
  },
  {
   "cell_type": "code",
   "execution_count": null,
   "metadata": {},
   "outputs": [],
   "source": [
    "y_pred = model.predict(X_test)\n",
    "\n",
    "pred_df = pd.DataFrame({'pred':y_pred,'actual':y_test})\n",
    "\n",
    "print(pred_df)"
   ]
  }
 ],
 "metadata": {
  "kernelspec": {
   "display_name": "Python 3",
   "language": "python",
   "name": "python3"
  },
  "language_info": {
   "codemirror_mode": {
    "name": "ipython",
    "version": 3
   },
   "file_extension": ".py",
   "mimetype": "text/x-python",
   "name": "python",
   "nbconvert_exporter": "python",
   "pygments_lexer": "ipython3",
   "version": "3.7.4"
  }
 },
 "nbformat": 4,
 "nbformat_minor": 4
}
