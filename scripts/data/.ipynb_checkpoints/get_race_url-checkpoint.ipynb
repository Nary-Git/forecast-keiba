{
 "cells": [
  {
   "cell_type": "markdown",
   "metadata": {},
   "source": [
    "# ToDo\n",
    "* chromedriverの配置、パス通し\n",
    "* 去年より前のデータも取得（コメントアウト外し）\n",
    "* Message: 'chromedriver' executable needs to be in PATH. Please see https://sites.google.com/a/chromium.org/chromedriver/home"
   ]
  },
  {
   "cell_type": "code",
   "execution_count": 1,
   "metadata": {},
   "outputs": [
    {
     "name": "stdout",
     "output_type": "stream",
     "text": [
      "Requirement already satisfied: selenium in /Users/gake0725/opt/python_env/py364env/lib/python3.6/site-packages (3.141.0)\n",
      "Requirement already satisfied: urllib3 in /Users/gake0725/opt/python_env/py364env/lib/python3.6/site-packages (from selenium) (1.25.7)\n",
      "\u001b[33mWARNING: You are using pip version 19.3.1; however, version 20.1.1 is available.\n",
      "You should consider upgrading via the 'pip install --upgrade pip' command.\u001b[0m\n",
      "Requirement already satisfied: pytz in /Users/gake0725/opt/python_env/py364env/lib/python3.6/site-packages (2020.1)\n",
      "\u001b[33mWARNING: You are using pip version 19.3.1; however, version 20.1.1 is available.\n",
      "You should consider upgrading via the 'pip install --upgrade pip' command.\u001b[0m\n"
     ]
    }
   ],
   "source": [
    "!pip install selenium\n",
    "!pip install pytz"
   ]
  },
  {
   "cell_type": "code",
   "execution_count": 2,
   "metadata": {},
   "outputs": [],
   "source": [
    "# raceの全情報のURLを入手する\n",
    "\"\"\"\n",
    "https://db.netkeiba.com/?pid=race_search_detail\n",
    "検索窓から全レースを一覧表示\n",
    "→レースへのリンクを取得\n",
    "\"\"\"\n",
    "import datetime\n",
    "import pytz\n",
    "now_datetime = datetime.datetime.now(pytz.timezone('Asia/Tokyo'))\n",
    "\n",
    "import re\n",
    "import time\n",
    "\n",
    "import os\n",
    "from os import path\n",
    "# OWN_FILE_NAME = path.splitext(path.basename(__file__))[0]\n",
    "RACR_URL_DIR = \"../../data/raw/race_url\"\n",
    "\n",
    "import logging\n",
    "logger = logging.getLogger()\n",
    "\n",
    "from selenium import webdriver\n",
    "from selenium.webdriver.support.ui import Select,WebDriverWait\n",
    "from selenium.webdriver.support import expected_conditions as EC\n",
    "from selenium.webdriver.common.by import By\n",
    "from selenium.webdriver.chrome.options import Options\n",
    "URL = \"https://db.netkeiba.com/?pid=race_search_detail\"\n",
    "WAIT_SECOND = 5\n",
    "FROM_YEAR = 2018\n",
    "browser = '../../lib/chrome'"
   ]
  },
  {
   "cell_type": "code",
   "execution_count": 3,
   "metadata": {},
   "outputs": [
    {
     "name": "stdout",
     "output_type": "stream",
     "text": [
      "\u001b[31mchromedriver\u001b[m\u001b[m             chromedriver_linux64.zip chromedriver_mac64.zip\r\n"
     ]
    }
   ],
   "source": [
    "!ls ../../lib/chrome/"
   ]
  },
  {
   "cell_type": "code",
   "execution_count": 4,
   "metadata": {},
   "outputs": [],
   "source": [
    "def get_race_url():\n",
    "    options = Options()\n",
    "    options.add_argument('--headless')\n",
    "    driver = webdriver.Chrome(options=options) # mac はbrewでインストールしたのでpathはok\n",
    "    driver.implicitly_wait(10)\n",
    "    # 去年までのデータ\n",
    "#     for year in range(FROM_YEAR, now_datetime.year):\n",
    "#         for month in range(1, 13):\n",
    "#             race_url_file = RACR_URL_DIR + \"/\" + str(year) + \"-\" + str(month) + \".txt\" #保存先ファイル\n",
    "#             if not os.path.isfile(race_url_file): # まだ取得していなければ取得\n",
    "#                 logger.info(\"getting urls (\"+str(year) +\" \"+ str(month) + \")\")\n",
    "#                 get_race_url_by_year_and_mon(driver,year,month)\n",
    "    # 先月までのデータ\n",
    "    for year in range(now_datetime.year, now_datetime.year+1):\n",
    "        for month in range(1, now_datetime.month):\n",
    "            race_url_file = RACR_URL_DIR + \"/\" + str(year) + \"-\" + str(month) + \".txt\" #保存先ファイル\n",
    "            if not os.path.isfile(race_url_file): # まだ取得していなければ取得\n",
    "                logger.info(\"getting urls (\"+str(year) +\" \"+ str(month) + \")\")\n",
    "                get_race_url_by_year_and_mon(driver,year,month)\n",
    "    # 今月分は毎回取得\n",
    "    logger.info(\"getting urls (\"+str(now_datetime.year) +\" \"+ str(now_datetime.month) + \")\")\n",
    "    get_race_url_by_year_and_mon(driver, now_datetime.year, now_datetime.month)\n",
    "\n",
    "    driver.close()\n",
    "    driver.quit()"
   ]
  },
  {
   "cell_type": "code",
   "execution_count": 5,
   "metadata": {},
   "outputs": [],
   "source": [
    "def get_race_url_by_year_and_mon(driver, year, month):\n",
    "    race_url_file = RACR_URL_DIR + \"/\" + str(year) + \"-\" + str(month) + \".txt\" #保存先ファイル\n",
    "\n",
    "    # URLにアクセス\n",
    "    wait = WebDriverWait(driver,10)\n",
    "    driver.get(URL)\n",
    "    time.sleep(1)\n",
    "    wait.until(EC.presence_of_all_elements_located)\n",
    "\n",
    "    # 期間を選択\n",
    "    start_year_element = driver.find_element_by_name('start_year')\n",
    "    start_year_select = Select(start_year_element)\n",
    "    start_year_select.select_by_value(str(year))\n",
    "    start_mon_element = driver.find_element_by_name('start_mon')\n",
    "    start_mon_select = Select(start_mon_element)\n",
    "    start_mon_select.select_by_value(str(month))\n",
    "    end_year_element = driver.find_element_by_name('end_year')\n",
    "    end_year_select = Select(end_year_element)\n",
    "    end_year_select.select_by_value(str(year))\n",
    "    end_mon_element = driver.find_element_by_name('end_mon')\n",
    "    end_mon_select = Select(end_mon_element)\n",
    "    end_mon_select.select_by_value(str(month))\n",
    "\n",
    "    # 競馬場をチェック\n",
    "    for i in range(1,11):\n",
    "        terms = driver.find_element_by_id(\"check_Jyo_\"+ str(i).zfill(2))\n",
    "        terms.click()\n",
    "\n",
    "    # 表示件数を選択(20,50,100の中から最大の100へ)\n",
    "    list_element = driver.find_element_by_name('list')\n",
    "    list_select = Select(list_element)\n",
    "    list_select.select_by_value(\"100\")\n",
    "\n",
    "    # フォームを送信\n",
    "    frm = driver.find_element_by_css_selector(\"#db_search_detail_form > form\")\n",
    "    frm.submit()\n",
    "    time.sleep(1)\n",
    "    wait.until(EC.presence_of_all_elements_located)\n",
    "\n",
    "    total_num_and_now_num = driver.find_element_by_xpath(\"//*[@id='contents_liquid']/div[1]/div[2]\").text\n",
    "    total_num = int(re.search(r'(.*)件中', total_num_and_now_num).group().strip(\"件中\"))\n",
    "\n",
    "    pre_url_num = 0\n",
    "    if os.path.isfile(race_url_file):\n",
    "        with open(race_url_file, mode='r') as f:\n",
    "            pre_url_num = len(f.readlines())\n",
    "\n",
    "    if total_num!=pre_url_num:\n",
    "        with open(race_url_file, mode='w') as f:\n",
    "            #tableからraceのURLを取得(ループしてページ送り)\n",
    "            total = 0\n",
    "            while True:\n",
    "                time.sleep(1)\n",
    "                wait.until(EC.presence_of_all_elements_located)\n",
    "\n",
    "                all_rows = driver.find_element_by_class_name('race_table_01').find_elements_by_tag_name(\"tr\")\n",
    "                total += len(all_rows)-1\n",
    "                for row in range(1, len(all_rows)):\n",
    "                    race_href = all_rows[row].find_elements_by_tag_name(\"td\")[4].find_element_by_tag_name(\"a\").get_attribute(\"href\")\n",
    "                    f.write(race_href+\"\\n\")\n",
    "                try:\n",
    "                    target = driver.find_elements_by_link_text(\"次\")[0]\n",
    "                    driver.execute_script(\"arguments[0].click();\", target) #javascriptでクリック処理\n",
    "                except IndexError:\n",
    "                    break\n",
    "        logging.info(\"got \"+ str(total) +\" urls of \" + str(total_num) +\" (\"+str(year) +\" \"+ str(month) + \")\")\n",
    "    else:\n",
    "        logging.info(\"already have \" + str(pre_url_num) +\" urls (\"+str(year) +\" \"+ str(month) + \")\")"
   ]
  },
  {
   "cell_type": "code",
   "execution_count": 7,
   "metadata": {},
   "outputs": [
    {
     "ename": "WebDriverException",
     "evalue": "Message: 'chromedriver' executable needs to be in PATH. Please see https://sites.google.com/a/chromium.org/chromedriver/home\n",
     "output_type": "error",
     "traceback": [
      "\u001b[0;31m---------------------------------------------------------------------------\u001b[0m",
      "\u001b[0;31mFileNotFoundError\u001b[0m                         Traceback (most recent call last)",
      "\u001b[0;32m~/opt/python_env/py364env/lib/python3.6/site-packages/selenium/webdriver/common/service.py\u001b[0m in \u001b[0;36mstart\u001b[0;34m(self)\u001b[0m\n\u001b[1;32m     75\u001b[0m                                             \u001b[0mstderr\u001b[0m\u001b[0;34m=\u001b[0m\u001b[0mself\u001b[0m\u001b[0;34m.\u001b[0m\u001b[0mlog_file\u001b[0m\u001b[0;34m,\u001b[0m\u001b[0;34m\u001b[0m\u001b[0m\n\u001b[0;32m---> 76\u001b[0;31m                                             stdin=PIPE)\n\u001b[0m\u001b[1;32m     77\u001b[0m         \u001b[0;32mexcept\u001b[0m \u001b[0mTypeError\u001b[0m\u001b[0;34m:\u001b[0m\u001b[0;34m\u001b[0m\u001b[0m\n",
      "\u001b[0;32m/usr/local/var/pyenv/versions/3.6.4/lib/python3.6/subprocess.py\u001b[0m in \u001b[0;36m__init__\u001b[0;34m(self, args, bufsize, executable, stdin, stdout, stderr, preexec_fn, close_fds, shell, cwd, env, universal_newlines, startupinfo, creationflags, restore_signals, start_new_session, pass_fds, encoding, errors)\u001b[0m\n\u001b[1;32m    708\u001b[0m                                 \u001b[0merrread\u001b[0m\u001b[0;34m,\u001b[0m \u001b[0merrwrite\u001b[0m\u001b[0;34m,\u001b[0m\u001b[0;34m\u001b[0m\u001b[0m\n\u001b[0;32m--> 709\u001b[0;31m                                 restore_signals, start_new_session)\n\u001b[0m\u001b[1;32m    710\u001b[0m         \u001b[0;32mexcept\u001b[0m\u001b[0;34m:\u001b[0m\u001b[0;34m\u001b[0m\u001b[0m\n",
      "\u001b[0;32m/usr/local/var/pyenv/versions/3.6.4/lib/python3.6/subprocess.py\u001b[0m in \u001b[0;36m_execute_child\u001b[0;34m(self, args, executable, preexec_fn, close_fds, pass_fds, cwd, env, startupinfo, creationflags, shell, p2cread, p2cwrite, c2pread, c2pwrite, errread, errwrite, restore_signals, start_new_session)\u001b[0m\n\u001b[1;32m   1343\u001b[0m                             \u001b[0merr_msg\u001b[0m \u001b[0;34m+=\u001b[0m \u001b[0;34m': '\u001b[0m \u001b[0;34m+\u001b[0m \u001b[0mrepr\u001b[0m\u001b[0;34m(\u001b[0m\u001b[0merr_filename\u001b[0m\u001b[0;34m)\u001b[0m\u001b[0;34m\u001b[0m\u001b[0m\n\u001b[0;32m-> 1344\u001b[0;31m                     \u001b[0;32mraise\u001b[0m \u001b[0mchild_exception_type\u001b[0m\u001b[0;34m(\u001b[0m\u001b[0merrno_num\u001b[0m\u001b[0;34m,\u001b[0m \u001b[0merr_msg\u001b[0m\u001b[0;34m,\u001b[0m \u001b[0merr_filename\u001b[0m\u001b[0;34m)\u001b[0m\u001b[0;34m\u001b[0m\u001b[0m\n\u001b[0m\u001b[1;32m   1345\u001b[0m                 \u001b[0;32mraise\u001b[0m \u001b[0mchild_exception_type\u001b[0m\u001b[0;34m(\u001b[0m\u001b[0merr_msg\u001b[0m\u001b[0;34m)\u001b[0m\u001b[0;34m\u001b[0m\u001b[0m\n",
      "\u001b[0;31mFileNotFoundError\u001b[0m: [Errno 2] No such file or directory: 'chromedriver': 'chromedriver'",
      "\nDuring handling of the above exception, another exception occurred:\n",
      "\u001b[0;31mWebDriverException\u001b[0m                        Traceback (most recent call last)",
      "\u001b[0;32m<ipython-input-7-35179c0d0647>\u001b[0m in \u001b[0;36m<module>\u001b[0;34m\u001b[0m\n\u001b[1;32m      1\u001b[0m \u001b[0;32mif\u001b[0m \u001b[0m__name__\u001b[0m \u001b[0;34m==\u001b[0m \u001b[0;34m'__main__'\u001b[0m\u001b[0;34m:\u001b[0m\u001b[0;34m\u001b[0m\u001b[0m\n\u001b[1;32m      2\u001b[0m     \u001b[0mlogger\u001b[0m\u001b[0;34m.\u001b[0m\u001b[0minfo\u001b[0m\u001b[0;34m(\u001b[0m\u001b[0;34m\"start get race url!\"\u001b[0m\u001b[0;34m)\u001b[0m\u001b[0;34m\u001b[0m\u001b[0m\n\u001b[0;32m----> 3\u001b[0;31m     \u001b[0mget_race_url\u001b[0m\u001b[0;34m(\u001b[0m\u001b[0;34m)\u001b[0m\u001b[0;34m\u001b[0m\u001b[0m\n\u001b[0m",
      "\u001b[0;32m<ipython-input-4-decf67fdeaf4>\u001b[0m in \u001b[0;36mget_race_url\u001b[0;34m()\u001b[0m\n\u001b[1;32m      2\u001b[0m     \u001b[0moptions\u001b[0m \u001b[0;34m=\u001b[0m \u001b[0mOptions\u001b[0m\u001b[0;34m(\u001b[0m\u001b[0;34m)\u001b[0m\u001b[0;34m\u001b[0m\u001b[0m\n\u001b[1;32m      3\u001b[0m     \u001b[0moptions\u001b[0m\u001b[0;34m.\u001b[0m\u001b[0madd_argument\u001b[0m\u001b[0;34m(\u001b[0m\u001b[0;34m'--headless'\u001b[0m\u001b[0;34m)\u001b[0m\u001b[0;34m\u001b[0m\u001b[0m\n\u001b[0;32m----> 4\u001b[0;31m     \u001b[0mdriver\u001b[0m \u001b[0;34m=\u001b[0m \u001b[0mwebdriver\u001b[0m\u001b[0;34m.\u001b[0m\u001b[0mChrome\u001b[0m\u001b[0;34m(\u001b[0m\u001b[0moptions\u001b[0m\u001b[0;34m=\u001b[0m\u001b[0moptions\u001b[0m\u001b[0;34m)\u001b[0m \u001b[0;31m# mac はbrewでインストールしたのでpathはok\u001b[0m\u001b[0;34m\u001b[0m\u001b[0m\n\u001b[0m\u001b[1;32m      5\u001b[0m     \u001b[0mdriver\u001b[0m\u001b[0;34m.\u001b[0m\u001b[0mimplicitly_wait\u001b[0m\u001b[0;34m(\u001b[0m\u001b[0;36m10\u001b[0m\u001b[0;34m)\u001b[0m\u001b[0;34m\u001b[0m\u001b[0m\n\u001b[1;32m      6\u001b[0m     \u001b[0;31m# 去年までのデータ\u001b[0m\u001b[0;34m\u001b[0m\u001b[0;34m\u001b[0m\u001b[0m\n",
      "\u001b[0;32m~/opt/python_env/py364env/lib/python3.6/site-packages/selenium/webdriver/chrome/webdriver.py\u001b[0m in \u001b[0;36m__init__\u001b[0;34m(self, executable_path, port, options, service_args, desired_capabilities, service_log_path, chrome_options, keep_alive)\u001b[0m\n\u001b[1;32m     71\u001b[0m             \u001b[0mservice_args\u001b[0m\u001b[0;34m=\u001b[0m\u001b[0mservice_args\u001b[0m\u001b[0;34m,\u001b[0m\u001b[0;34m\u001b[0m\u001b[0m\n\u001b[1;32m     72\u001b[0m             log_path=service_log_path)\n\u001b[0;32m---> 73\u001b[0;31m         \u001b[0mself\u001b[0m\u001b[0;34m.\u001b[0m\u001b[0mservice\u001b[0m\u001b[0;34m.\u001b[0m\u001b[0mstart\u001b[0m\u001b[0;34m(\u001b[0m\u001b[0;34m)\u001b[0m\u001b[0;34m\u001b[0m\u001b[0m\n\u001b[0m\u001b[1;32m     74\u001b[0m \u001b[0;34m\u001b[0m\u001b[0m\n\u001b[1;32m     75\u001b[0m         \u001b[0;32mtry\u001b[0m\u001b[0;34m:\u001b[0m\u001b[0;34m\u001b[0m\u001b[0m\n",
      "\u001b[0;32m~/opt/python_env/py364env/lib/python3.6/site-packages/selenium/webdriver/common/service.py\u001b[0m in \u001b[0;36mstart\u001b[0;34m(self)\u001b[0m\n\u001b[1;32m     81\u001b[0m                 raise WebDriverException(\n\u001b[1;32m     82\u001b[0m                     \"'%s' executable needs to be in PATH. %s\" % (\n\u001b[0;32m---> 83\u001b[0;31m                         os.path.basename(self.path), self.start_error_message)\n\u001b[0m\u001b[1;32m     84\u001b[0m                 )\n\u001b[1;32m     85\u001b[0m             \u001b[0;32melif\u001b[0m \u001b[0merr\u001b[0m\u001b[0;34m.\u001b[0m\u001b[0merrno\u001b[0m \u001b[0;34m==\u001b[0m \u001b[0merrno\u001b[0m\u001b[0;34m.\u001b[0m\u001b[0mEACCES\u001b[0m\u001b[0;34m:\u001b[0m\u001b[0;34m\u001b[0m\u001b[0m\n",
      "\u001b[0;31mWebDriverException\u001b[0m: Message: 'chromedriver' executable needs to be in PATH. Please see https://sites.google.com/a/chromium.org/chromedriver/home\n"
     ]
    }
   ],
   "source": [
    "if __name__ == '__main__':\n",
    "    logger.info(\"start get race url!\")\n",
    "    get_race_url()"
   ]
  }
 ],
 "metadata": {
  "kernelspec": {
   "display_name": "Python 3",
   "language": "python",
   "name": "python3"
  },
  "language_info": {
   "codemirror_mode": {
    "name": "ipython",
    "version": 3
   },
   "file_extension": ".py",
   "mimetype": "text/x-python",
   "name": "python",
   "nbconvert_exporter": "python",
   "pygments_lexer": "ipython3",
   "version": "3.6.4"
  }
 },
 "nbformat": 4,
 "nbformat_minor": 4
}
